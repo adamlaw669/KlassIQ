{
 "cells": [
  {
   "cell_type": "code",
   "execution_count": 10,
   "id": "4e3c150f",
   "metadata": {},
   "outputs": [],
   "source": [
    "import requests\n",
    "import re\n",
    "import os"
   ]
  },
  {
   "cell_type": "code",
   "execution_count": 4,
   "id": "9b22d5c3",
   "metadata": {},
   "outputs": [
    {
     "name": "stdout",
     "output_type": "stream",
     "text": [
      "200\n",
      "<!DOCTYPE html>\n",
      "<html>\n",
      "<head>\n",
      "\n",
      "\n",
      "    <title>Nigerian Educational Research and Development Council - NERDC Curriculum</title>\n",
      "        \n",
      "<link rel=\"apple-touch-icon\" sizes=\"180x180\" href=\"../favicons/apple-touch-icon.png\">\n",
      "<link rel=\"icon\" type=\"image/png\" href=\"../favicons/favicon-32x32.png\" sizes=\"32x32\">\n",
      "<link rel=\"icon\" type=\"image/png\" href=\"../favicons/favicon-16x16.png\" sizes=\"16x16\">\n",
      "<link rel=\"manifest\" href=\"../favicons/manifest.json\">\n",
      "<link rel=\"mask-icon\" href=\"../favicons/safari-pinned-tab.svg\" color=\"#5bbad5\">\n",
      "<meta name=\"theme-color\" content=\"#ffffff\">\n",
      "\n",
      "     <!-- Bootstrap Core CSS -->\n",
      "    <link href=\"css/bootstrap.min.css\" rel=\"stylesheet\">\n",
      "\n",
      "    <!-- Custom CSS -->\n",
      "    <link href=\"css/full-slider.css\" rel=\"stylesheet\">\n",
      "    \n",
      "<style>\n",
      ".menucls {\n",
      "  background-color: #229954;\n",
      "  bord\n"
     ]
    }
   ],
   "source": [
    "r = requests.get(\"https://nerdc.gov.ng/content_manager/pri1-3.html\")\n",
    "print(r.status_code)\n",
    "print(r.text[:800])\n"
   ]
  },
  {
   "cell_type": "markdown",
   "id": "e2e6d922",
   "metadata": {},
   "source": [
    "# Primary 1-3"
   ]
  },
  {
   "cell_type": "code",
   "execution_count": 7,
   "id": "bbb9aae3",
   "metadata": {},
   "outputs": [
    {
     "name": "stdout",
     "output_type": "stream",
     "text": [
      "23\n",
      "['pri1-3_arabic.pdf', 'pri1-3_basic_science_intro.pdf', 'pri1-3_basic_science_technology.pdf', 'pri1-3_basic_science_technology.pdf', 'pri1-3_cca.pdf', 'pri1-3_english_studies_intro.pdf', 'pri1-3_english_studies.pdf', 'pri1-3_french_intro.pdf', 'pri1-3_french.pdf', 'pri1-3_maths_intro.pdf', 'pri1-3_maths.pdf', 'pri1-3_nvcf.pdf', 'pri1-3_nvc.pdf', 'pri1-3_hausa_intro.pdf', 'pri1-3_hausa.pdf', 'pri1-3_igbo_intro.pdf', 'pri1-3_igbo.pdf', 'pri1-3_islamicf.pdf', 'pri1-3_islamic.pdf', 'pri1-3_yoruba_intro.pdf', 'pri1-3_yoruba.pdf', 'pri1-3_prevoc_intro.pdf', 'pri1-3_prevoc.pdf']\n"
     ]
    }
   ],
   "source": [
    "\n",
    "r = requests.get(\"https://nerdc.gov.ng/content_manager/pri1-3.html\")\n",
    "html = r.text\n",
    "pdfs = re.findall(r'[\\w\\-\\/]+\\.pdf', html, flags=re.IGNORECASE)\n",
    "print(len(pdfs))\n",
    "print(pdfs) "
   ]
  },
  {
   "cell_type": "code",
   "execution_count": 17,
   "id": "b0ed62c8",
   "metadata": {},
   "outputs": [
    {
     "name": "stdout",
     "output_type": "stream",
     "text": [
      "14\n",
      "['https://nerdc.gov.ng/content_manager/primary/pri1-3_arabic.pdf', 'https://nerdc.gov.ng/content_manager/primary/pri1-3_basic_science_technology.pdf', 'https://nerdc.gov.ng/content_manager/primary/pri1-3_basic_science_technology.pdf', 'https://nerdc.gov.ng/content_manager/primary/pri1-3_cca.pdf', 'https://nerdc.gov.ng/content_manager/primary/pri1-3_english_studies.pdf', 'https://nerdc.gov.ng/content_manager/primary/pri1-3_french.pdf', 'https://nerdc.gov.ng/content_manager/primary/pri1-3_maths.pdf', 'https://nerdc.gov.ng/content_manager/primary/pri1-3_nvc.pdf', 'https://nerdc.gov.ng/content_manager/primary/pri1-3_hausa.pdf', 'https://nerdc.gov.ng/content_manager/primary/pri1-3_igbo.pdf', 'https://nerdc.gov.ng/content_manager/primary/pri1-3_islamicf.pdf', 'https://nerdc.gov.ng/content_manager/primary/pri1-3_islamic.pdf', 'https://nerdc.gov.ng/content_manager/primary/pri1-3_yoruba.pdf', 'https://nerdc.gov.ng/content_manager/primary/pri1-3_prevoc.pdf']\n"
     ]
    }
   ],
   "source": [
    "base = \"https://nerdc.gov.ng/content_manager/primary/\"\n",
    "real_pdfs = [base + pdf for pdf in pdfs if not any(x in pdf for x in [\"_intro\", \"nvcf\"])]\n",
    "print(len(real_pdfs))\n",
    "print(real_pdfs)\n"
   ]
  },
  {
   "cell_type": "markdown",
   "id": "5f0ec0ca",
   "metadata": {},
   "source": [
    "note: the french curriculum is missing, that why t was not included\n"
   ]
  },
  {
   "cell_type": "code",
   "execution_count": 19,
   "id": "20c53de5",
   "metadata": {},
   "outputs": [
    {
     "name": "stdout",
     "output_type": "stream",
     "text": [
      "Downloaded: p_1_3_curriculum_pdfs\\pri1-3_arabic.pdf\n",
      "Downloaded: p_1_3_curriculum_pdfs\\pri1-3_basic_science_technology.pdf\n",
      "Downloaded: p_1_3_curriculum_pdfs\\pri1-3_basic_science_technology.pdf\n",
      "Downloaded: p_1_3_curriculum_pdfs\\pri1-3_cca.pdf\n",
      "Downloaded: p_1_3_curriculum_pdfs\\pri1-3_english_studies.pdf\n",
      "Failed to downlod: https://nerdc.gov.ng/content_manager/primary/pri1-3_french.pdf\n",
      "Downloaded: p_1_3_curriculum_pdfs\\pri1-3_maths.pdf\n",
      "Downloaded: p_1_3_curriculum_pdfs\\pri1-3_nvc.pdf\n",
      "Downloaded: p_1_3_curriculum_pdfs\\pri1-3_hausa.pdf\n",
      "Downloaded: p_1_3_curriculum_pdfs\\pri1-3_igbo.pdf\n",
      "Downloaded: p_1_3_curriculum_pdfs\\pri1-3_islamicf.pdf\n",
      "Downloaded: p_1_3_curriculum_pdfs\\pri1-3_islamic.pdf\n",
      "Downloaded: p_1_3_curriculum_pdfs\\pri1-3_yoruba.pdf\n",
      "Failed to downlod: https://nerdc.gov.ng/content_manager/primary/pri1-3_prevoc.pdf\n"
     ]
    }
   ],
   "source": [
    "os.makedirs(\"p_1_3_curriculum_pdfs\", exist_ok=True)\n",
    "\n",
    "for pdf_url in real_pdfs:\n",
    "    filename = os.path.join(\"p_1_3_curriculum_pdfs\", pdf_url.split(\"/\")[-1])\n",
    "    res = requests.get(pdf_url)\n",
    "    if res.status_code == 200:\n",
    "        with open(filename, \"wb\") as f:\n",
    "            f.write(res.content)\n",
    "        print(f\"Downloaded: {filename}\")\n",
    "    else:\n",
    "        print(f\"Failed to downlod: {pdf_url}\")\n"
   ]
  },
  {
   "cell_type": "code",
   "execution_count": null,
   "id": "533544af",
   "metadata": {},
   "outputs": [],
   "source": []
  }
 ],
 "metadata": {
  "kernelspec": {
   "display_name": "dvenv (3.13.7)",
   "language": "python",
   "name": "python3"
  },
  "language_info": {
   "codemirror_mode": {
    "name": "ipython",
    "version": 3
   },
   "file_extension": ".py",
   "mimetype": "text/x-python",
   "name": "python",
   "nbconvert_exporter": "python",
   "pygments_lexer": "ipython3",
   "version": "3.13.7"
  }
 },
 "nbformat": 4,
 "nbformat_minor": 5
}
