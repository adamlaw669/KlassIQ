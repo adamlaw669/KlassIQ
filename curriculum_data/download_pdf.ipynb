{
 "cells": [
  {
   "cell_type": "code",
   "execution_count": 1,
   "id": "4e3c150f",
   "metadata": {},
   "outputs": [],
   "source": [
    "import requests\n",
    "import re\n",
    "import os"
   ]
  },
  {
   "cell_type": "code",
   "execution_count": 2,
   "id": "9b22d5c3",
   "metadata": {},
   "outputs": [
    {
     "name": "stdout",
     "output_type": "stream",
     "text": [
      "200\n",
      "<!DOCTYPE html>\n",
      "<html>\n",
      "<head>\n",
      "\n",
      "\n",
      "    <title>Nigerian Educational Research and Development Council - NERDC Curriculum</title>\n",
      "        \n",
      "<link rel=\"apple-touch-icon\" sizes=\"180x180\" href=\"../favicons/apple-touch-icon.png\">\n",
      "<link rel=\"icon\" type=\"image/png\" href=\"../favicons/favicon-32x32.png\" sizes=\"32x32\">\n",
      "<link rel=\"icon\" type=\"image/png\" href=\"../favicons/favicon-16x16.png\" sizes=\"16x16\">\n",
      "<link rel=\"manifest\" href=\"../favicons/manifest.json\">\n",
      "<link rel=\"mask-icon\" href=\"../favicons/safari-pinned-tab.svg\" color=\"#5bbad5\">\n",
      "<meta name=\"theme-color\" content=\"#ffffff\">\n",
      "\n",
      "     <!-- Bootstrap Core CSS -->\n",
      "    <link href=\"css/bootstrap.min.css\" rel=\"stylesheet\">\n",
      "\n",
      "    <!-- Custom CSS -->\n",
      "    <link href=\"css/full-slider.css\" rel=\"stylesheet\">\n",
      "    \n",
      "<style>\n",
      ".menucls {\n",
      "  background-color: #229954;\n",
      "  bord\n"
     ]
    }
   ],
   "source": [
    "r = requests.get(\"https://nerdc.gov.ng/content_manager/pri1-3.html\")\n",
    "print(r.status_code)\n",
    "print(r.text[:800])\n"
   ]
  },
  {
   "cell_type": "markdown",
   "id": "e2e6d922",
   "metadata": {},
   "source": [
    "# Primary 1-3"
   ]
  },
  {
   "cell_type": "code",
   "execution_count": 3,
   "id": "bbb9aae3",
   "metadata": {},
   "outputs": [
    {
     "name": "stdout",
     "output_type": "stream",
     "text": [
      "23\n",
      "['pri1-3_arabic.pdf', 'pri1-3_basic_science_intro.pdf', 'pri1-3_basic_science_technology.pdf', 'pri1-3_basic_science_technology.pdf', 'pri1-3_cca.pdf', 'pri1-3_english_studies_intro.pdf', 'pri1-3_english_studies.pdf', 'pri1-3_french_intro.pdf', 'pri1-3_french.pdf', 'pri1-3_maths_intro.pdf', 'pri1-3_maths.pdf', 'pri1-3_nvcf.pdf', 'pri1-3_nvc.pdf', 'pri1-3_hausa_intro.pdf', 'pri1-3_hausa.pdf', 'pri1-3_igbo_intro.pdf', 'pri1-3_igbo.pdf', 'pri1-3_islamicf.pdf', 'pri1-3_islamic.pdf', 'pri1-3_yoruba_intro.pdf', 'pri1-3_yoruba.pdf', 'pri1-3_prevoc_intro.pdf', 'pri1-3_prevoc.pdf']\n"
     ]
    }
   ],
   "source": [
    "\n",
    "r = requests.get(\"https://nerdc.gov.ng/content_manager/pri1-3.html\")\n",
    "html = r.text\n",
    "pdfs = re.findall(r'[\\w\\-\\/]+\\.pdf', html, flags=re.IGNORECASE)\n",
    "print(len(pdfs))\n",
    "print(pdfs) "
   ]
  },
  {
   "cell_type": "code",
   "execution_count": 4,
   "id": "b0ed62c8",
   "metadata": {},
   "outputs": [
    {
     "name": "stdout",
     "output_type": "stream",
     "text": [
      "14\n",
      "['https://nerdc.gov.ng/content_manager/primary/pri1-3_arabic.pdf', 'https://nerdc.gov.ng/content_manager/primary/pri1-3_basic_science_technology.pdf', 'https://nerdc.gov.ng/content_manager/primary/pri1-3_basic_science_technology.pdf', 'https://nerdc.gov.ng/content_manager/primary/pri1-3_cca.pdf', 'https://nerdc.gov.ng/content_manager/primary/pri1-3_english_studies.pdf', 'https://nerdc.gov.ng/content_manager/primary/pri1-3_french.pdf', 'https://nerdc.gov.ng/content_manager/primary/pri1-3_maths.pdf', 'https://nerdc.gov.ng/content_manager/primary/pri1-3_nvc.pdf', 'https://nerdc.gov.ng/content_manager/primary/pri1-3_hausa.pdf', 'https://nerdc.gov.ng/content_manager/primary/pri1-3_igbo.pdf', 'https://nerdc.gov.ng/content_manager/primary/pri1-3_islamicf.pdf', 'https://nerdc.gov.ng/content_manager/primary/pri1-3_islamic.pdf', 'https://nerdc.gov.ng/content_manager/primary/pri1-3_yoruba.pdf', 'https://nerdc.gov.ng/content_manager/primary/pri1-3_prevoc.pdf']\n"
     ]
    }
   ],
   "source": [
    "base = \"https://nerdc.gov.ng/content_manager/primary/\"\n",
    "real_pdfs = [base + pdf for pdf in pdfs if not any(x in pdf for x in [\"_intro\", \"nvcf\"])]\n",
    "print(len(real_pdfs))\n",
    "print(real_pdfs)\n"
   ]
  },
  {
   "cell_type": "markdown",
   "id": "5f0ec0ca",
   "metadata": {},
   "source": [
    "note: the french curriculum is missing, that why t was not included\n"
   ]
  },
  {
   "cell_type": "code",
   "execution_count": 8,
   "id": "20c53de5",
   "metadata": {},
   "outputs": [
    {
     "name": "stdout",
     "output_type": "stream",
     "text": [
      "Downloaded: ./pdfs/pri1-3_arabic.pdf\n",
      "Downloaded: ./pdfs/pri1-3_basic_science_technology.pdf\n",
      "Downloaded: ./pdfs/pri1-3_basic_science_technology.pdf\n",
      "Downloaded: ./pdfs/pri1-3_cca.pdf\n",
      "Downloaded: ./pdfs/pri1-3_english_studies.pdf\n",
      "Failed to downlod: https://nerdc.gov.ng/content_manager/primary/pri1-3_french.pdf\n",
      "Downloaded: ./pdfs/pri1-3_maths.pdf\n",
      "Downloaded: ./pdfs/pri1-3_nvc.pdf\n",
      "Downloaded: ./pdfs/pri1-3_hausa.pdf\n",
      "Downloaded: ./pdfs/pri1-3_igbo.pdf\n",
      "Downloaded: ./pdfs/pri1-3_islamicf.pdf\n",
      "Downloaded: ./pdfs/pri1-3_islamic.pdf\n",
      "Downloaded: ./pdfs/pri1-3_yoruba.pdf\n",
      "Failed to downlod: https://nerdc.gov.ng/content_manager/primary/pri1-3_prevoc.pdf\n"
     ]
    }
   ],
   "source": [
    "os.makedirs(\"./pdfs/\", exist_ok=True)\n",
    "\n",
    "for pdf_url in real_pdfs:\n",
    "    filename = os.path.join(\"./pdfs/\", pdf_url.split(\"/\")[-1])\n",
    "    res = requests.get(pdf_url)\n",
    "    if res.status_code == 200:\n",
    "        with open(filename, \"wb\") as f:\n",
    "            f.write(res.content)\n",
    "        print(f\"Downloaded: {filename}\")\n",
    "    else:\n",
    "        print(f\"Failed to downlod: {pdf_url}\")\n"
   ]
  },
  {
   "cell_type": "markdown",
   "id": "3c85f0ee",
   "metadata": {},
   "source": [
    "# Primary 4-6"
   ]
  },
  {
   "cell_type": "code",
   "execution_count": 6,
   "id": "533544af",
   "metadata": {},
   "outputs": [
    {
     "name": "stdout",
     "output_type": "stream",
     "text": [
      "23\n",
      "['pri4-6_arabic.pdf', 'pri4-6_basic_science_intro.pdf', 'pri4-6_basic_science_technology.pdf', 'pri4-6_cca_intro.pdf', 'pri4-6_cca.pdf', 'pri4-6_english_studies_intro.pdf', 'pri4-6_english_studies.pdf', 'pri4-6_french_intro.pdf', 'pri4-6_french.pdf', 'pri4-6_maths_intro.pdf', 'pri4-6_maths.pdf', 'pri1-3_nvcf.pdf', 'pri1-3_nvc.pdf', 'pri4-6_hausa_intro.pdf', 'pri4-6_hausa.pdf', 'pri4-6_igbo_intro.pdf', 'pri4-6_igbo.pdf', 'pri4-6_islamic_intro.pdf', 'pri4-6_islamic.pdf', 'pri4-6_yoruba_intro.pdf', 'pri4-6_yoruba.pdf', 'pri4-6_prevoc_intro.pdf', 'pri4-6_prevoc.pdf']\n"
     ]
    }
   ],
   "source": [
    "\n",
    "r_4_6 = requests.get(\"https://nerdc.gov.ng/content_manager/pri4-6.html\")\n",
    "html_4_6 = r_4_6.text\n",
    "pdfs_4_6 = re.findall(r'[\\w\\-\\/]+\\.pdf', html_4_6, flags=re.IGNORECASE)\n",
    "print(len(pdfs_4_6))\n",
    "print(pdfs_4_6) "
   ]
  },
  {
   "cell_type": "code",
   "execution_count": 7,
   "id": "f8e3222a",
   "metadata": {},
   "outputs": [
    {
     "name": "stdout",
     "output_type": "stream",
     "text": [
      "12\n",
      "['https://nerdc.gov.ng/content_manager/primary/pri4-6_arabic.pdf', 'https://nerdc.gov.ng/content_manager/primary/pri4-6_basic_science_technology.pdf', 'https://nerdc.gov.ng/content_manager/primary/pri4-6_cca.pdf', 'https://nerdc.gov.ng/content_manager/primary/pri4-6_english_studies.pdf', 'https://nerdc.gov.ng/content_manager/primary/pri4-6_french.pdf', 'https://nerdc.gov.ng/content_manager/primary/pri4-6_maths.pdf', 'https://nerdc.gov.ng/content_manager/primary/pri1-3_nvc.pdf', 'https://nerdc.gov.ng/content_manager/primary/pri4-6_hausa.pdf', 'https://nerdc.gov.ng/content_manager/primary/pri4-6_igbo.pdf', 'https://nerdc.gov.ng/content_manager/primary/pri4-6_islamic.pdf', 'https://nerdc.gov.ng/content_manager/primary/pri4-6_yoruba.pdf', 'https://nerdc.gov.ng/content_manager/primary/pri4-6_prevoc.pdf']\n"
     ]
    }
   ],
   "source": [
    "base = \"https://nerdc.gov.ng/content_manager/primary/\"\n",
    "real_4_6_pdfs = [base + pdf_4_6 for pdf_4_6 in pdfs_4_6 if not any(y in pdf_4_6 for y in [\"_intro\", \"nvcf\"])]\n",
    "print(len(real_4_6_pdfs))\n",
    "print(real_4_6_pdfs)\n"
   ]
  },
  {
   "cell_type": "code",
   "execution_count": 9,
   "id": "f0159c65",
   "metadata": {},
   "outputs": [
    {
     "name": "stdout",
     "output_type": "stream",
     "text": [
      "Downloaded: ./pdfs/pri4-6_arabic.pdf\n",
      "Downloaded: ./pdfs/pri4-6_basic_science_technology.pdf\n",
      "Downloaded: ./pdfs/pri4-6_cca.pdf\n",
      "Downloaded: ./pdfs/pri4-6_english_studies.pdf\n",
      "Downloaded: ./pdfs/pri4-6_french.pdf\n",
      "Downloaded: ./pdfs/pri4-6_maths.pdf\n",
      "Downloaded: ./pdfs/pri1-3_nvc.pdf\n",
      "Failed to downlod: https://nerdc.gov.ng/content_manager/primary/pri4-6_hausa.pdf\n",
      "Downloaded: ./pdfs/pri4-6_igbo.pdf\n",
      "Downloaded: ./pdfs/pri4-6_islamic.pdf\n",
      "Downloaded: ./pdfs/pri4-6_yoruba.pdf\n",
      "Downloaded: ./pdfs/pri4-6_prevoc.pdf\n"
     ]
    }
   ],
   "source": [
    "os.makedirs(\"./pdfs/\", exist_ok=True)\n",
    "\n",
    "for pdf_4_6_url in real_4_6_pdfs:\n",
    "    filename_4_6 = os.path.join(\"./pdfs/\", pdf_4_6_url.split(\"/\")[-1])\n",
    "    res_4_6 = requests.get(pdf_4_6_url)\n",
    "    if res_4_6.status_code == 200:\n",
    "        with open(filename_4_6, \"wb\") as g:\n",
    "            g.write(res_4_6.content)\n",
    "        print(f\"Downloaded: {filename_4_6}\")\n",
    "    else:\n",
    "        print(f\"Failed to downlod: {pdf_4_6_url}\")\n"
   ]
  },
  {
   "cell_type": "markdown",
   "id": "a4a3d46a",
   "metadata": {},
   "source": [
    "# JSS 1-3"
   ]
  },
  {
   "cell_type": "code",
   "execution_count": 10,
   "id": "7633a703",
   "metadata": {},
   "outputs": [
    {
     "name": "stdout",
     "output_type": "stream",
     "text": [
      "29\n",
      "['jss1-3_arabic.pdf', 'jss1-3_basic_science_intro.pdf', 'jss1-3_basic_science_technology.pdf', 'jss1-3_business_studies_intro.pdf', 'jss1-3_business_studies.pdf', 'jss1-3_crsf.pdf', 'jss1-3_crs.pdf', 'jss1-3_cca_intro.pdf', 'jss1-3_cca.pdf', 'jss1-3_english_studies_intro.pdf', 'jss1-3_english_studies.pdf', 'jss1-3_french_intro.pdf', 'jss1-3_french.pdf', 'jss1-3_hausa_intro.pdf', 'jss1-3_hausa.pdf', 'jss1-3_historyf.pdf', 'jss1-3_history.pdf', 'jss1-3_igbo_intro.pdf', 'jss1-3_igbo.pdf', 'jss1-3_islamic_intro.pdf', 'jss1-3_islamic.pdf', 'jss1-3_maths_intro.pdf', 'jss1-3_maths.pdf', 'jss1-3_nvcf.pdf', 'jss1-3_nvc.pdf', 'jss1-3_prevoc_intro.pdf', 'jss1-3_prevoc.pdf', 'jss1-3_yoruba_intro.pdf', 'jss1-3_yoruba.pdf']\n"
     ]
    }
   ],
   "source": [
    "\n",
    "r_js = requests.get(\"https://nerdc.gov.ng/content_manager/jss1-3.html\")\n",
    "html_js = r_js.text\n",
    "pdfs_js = re.findall(r'[\\w\\-\\/]+\\.pdf', html_js, flags=re.IGNORECASE)\n",
    "print(len(pdfs_js))\n",
    "print(pdfs_js) \n"
   ]
  },
  {
   "cell_type": "code",
   "execution_count": 11,
   "id": "7ef4843d",
   "metadata": {},
   "outputs": [
    {
     "name": "stdout",
     "output_type": "stream",
     "text": [
      "17\n",
      "['https://nerdc.gov.ng/content_manager/jss/jss1-3_arabic.pdf', 'https://nerdc.gov.ng/content_manager/jss/jss1-3_basic_science_technology.pdf', 'https://nerdc.gov.ng/content_manager/jss/jss1-3_business_studies.pdf', 'https://nerdc.gov.ng/content_manager/jss/jss1-3_crsf.pdf', 'https://nerdc.gov.ng/content_manager/jss/jss1-3_crs.pdf', 'https://nerdc.gov.ng/content_manager/jss/jss1-3_cca.pdf', 'https://nerdc.gov.ng/content_manager/jss/jss1-3_english_studies.pdf', 'https://nerdc.gov.ng/content_manager/jss/jss1-3_french.pdf', 'https://nerdc.gov.ng/content_manager/jss/jss1-3_hausa.pdf', 'https://nerdc.gov.ng/content_manager/jss/jss1-3_historyf.pdf', 'https://nerdc.gov.ng/content_manager/jss/jss1-3_history.pdf', 'https://nerdc.gov.ng/content_manager/jss/jss1-3_igbo.pdf', 'https://nerdc.gov.ng/content_manager/jss/jss1-3_islamic.pdf', 'https://nerdc.gov.ng/content_manager/jss/jss1-3_maths.pdf', 'https://nerdc.gov.ng/content_manager/jss/jss1-3_nvc.pdf', 'https://nerdc.gov.ng/content_manager/jss/jss1-3_prevoc.pdf', 'https://nerdc.gov.ng/content_manager/jss/jss1-3_yoruba.pdf']\n"
     ]
    }
   ],
   "source": [
    "base = \"https://nerdc.gov.ng/content_manager/jss/\"\n",
    "real_js_pdfs = [base + pdf_js for pdf_js in pdfs_js if not any(y in pdf_js for y in [\"_intro\", \"nvcf\"])]\n",
    "print(len(real_js_pdfs))\n",
    "print(real_js_pdfs)\n"
   ]
  },
  {
   "cell_type": "code",
   "execution_count": 12,
   "id": "1e951b51",
   "metadata": {},
   "outputs": [
    {
     "name": "stdout",
     "output_type": "stream",
     "text": [
      "Downloaded: ./pdfs/jss1-3_arabic.pdf\n",
      "Downloaded: ./pdfs/jss1-3_basic_science_technology.pdf\n",
      "Downloaded: ./pdfs/jss1-3_business_studies.pdf\n",
      "Downloaded: ./pdfs/jss1-3_crsf.pdf\n",
      "Downloaded: ./pdfs/jss1-3_crs.pdf\n",
      "Downloaded: ./pdfs/jss1-3_cca.pdf\n",
      "Downloaded: ./pdfs/jss1-3_english_studies.pdf\n",
      "Downloaded: ./pdfs/jss1-3_french.pdf\n",
      "Downloaded: ./pdfs/jss1-3_hausa.pdf\n",
      "Downloaded: ./pdfs/jss1-3_historyf.pdf\n",
      "Downloaded: ./pdfs/jss1-3_history.pdf\n",
      "Downloaded: ./pdfs/jss1-3_igbo.pdf\n",
      "Downloaded: ./pdfs/jss1-3_islamic.pdf\n",
      "Downloaded: ./pdfs/jss1-3_maths.pdf\n",
      "Downloaded: ./pdfs/jss1-3_nvc.pdf\n",
      "Downloaded: ./pdfs/jss1-3_prevoc.pdf\n",
      "Downloaded: ./pdfs/jss1-3_yoruba.pdf\n"
     ]
    }
   ],
   "source": [
    "os.makedirs(\"./pdfs/\", exist_ok=True)\n",
    "\n",
    "for pdf_js_url in real_js_pdfs:\n",
    "    filename_js = os.path.join(\"./pdfs/\", pdf_js_url.split(\"/\")[-1])\n",
    "    res_js = requests.get(pdf_js_url)\n",
    "    if res_js.status_code == 200:\n",
    "        with open(filename_js, \"wb\") as h:\n",
    "            h.write(res_js.content)\n",
    "        print(f\"Downloaded: {filename_js}\")\n",
    "    else:\n",
    "        print(f\"Failed to downlod: {pdf_js_url}\")\n"
   ]
  },
  {
   "cell_type": "code",
   "execution_count": null,
   "id": "503978bf",
   "metadata": {},
   "outputs": [],
   "source": []
  }
 ],
 "metadata": {
  "kernelspec": {
   "display_name": "base",
   "language": "python",
   "name": "python3"
  },
  "language_info": {
   "codemirror_mode": {
    "name": "ipython",
    "version": 3
   },
   "file_extension": ".py",
   "mimetype": "text/x-python",
   "name": "python",
   "nbconvert_exporter": "python",
   "pygments_lexer": "ipython3",
   "version": "3.12.7"
  }
 },
 "nbformat": 4,
 "nbformat_minor": 5
}
