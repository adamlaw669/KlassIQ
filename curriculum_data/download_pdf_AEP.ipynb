{
 "cells": [
  {
   "cell_type": "code",
   "execution_count": 2,
   "id": "32aa6d3b",
   "metadata": {},
   "outputs": [],
   "source": [
    "import requests\n",
    "from bs4 import BeautifulSoup\n",
    "from urllib.parse import urljoin\n",
    "import os"
   ]
  },
  {
   "cell_type": "code",
   "execution_count": 5,
   "id": "a7727d49",
   "metadata": {},
   "outputs": [
    {
     "name": "stdout",
     "output_type": "stream",
     "text": [
      "Downloaded: ./pdfs/aep_curriculum_pdfs\\AEP Basic Science and Tech Level 1 Version A.pdf\n",
      "Downloaded: ./pdfs/aep_curriculum_pdfs\\AEP Basic Science and Tech Level 2 Version A.pdf\n",
      "Downloaded: ./pdfs/aep_curriculum_pdfs\\AEP Basic Science and Tech Level 3 Version A.pdf\n",
      "Downloaded: ./pdfs/aep_curriculum_pdfs\\AEP English Level 1 Version A.pdf\n",
      "Downloaded: ./pdfs/aep_curriculum_pdfs\\AEP English Level 2 Version A.pdf\n",
      "Downloaded: ./pdfs/aep_curriculum_pdfs\\AEP English Level 3 Version A.pdf\n",
      "Downloaded: ./pdfs/aep_curriculum_pdfs\\AEP YORUBA LEVEL 1 Version A.pdf\n",
      "Downloaded: ./pdfs/aep_curriculum_pdfs\\AEP YORUBA LEVEL 2 Version A.pdf\n",
      "Downloaded: ./pdfs/aep_curriculum_pdfs\\AEP YORUBA LEVEL 3 Version A.pdf\n",
      "Downloaded: ./pdfs/aep_curriculum_pdfs\\AEP Hausa Level 1 Version A.pdf\n",
      "Downloaded: ./pdfs/aep_curriculum_pdfs\\AEP Hausa Level 2 Version A.pdf\n",
      "Downloaded: ./pdfs/aep_curriculum_pdfs\\AEP Hausa Level 3 Version A.pdf\n",
      "Downloaded: ./pdfs/aep_curriculum_pdfs\\AEP Igbo Language Level 1 Version A.pdf\n",
      "Downloaded: ./pdfs/aep_curriculum_pdfs\\AEP Igbo Language Level 2 Version A.pdf\n",
      "Downloaded: ./pdfs/aep_curriculum_pdfs\\AEP Igbo Language Level 3 Version A.pdf\n",
      "Downloaded: ./pdfs/aep_curriculum_pdfs\\AEP Mathematics Level 1 Version A.pdf\n",
      "Downloaded: ./pdfs/aep_curriculum_pdfs\\AEP Mathematics Level 2 Version A.pdf\n",
      "Downloaded: ./pdfs/aep_curriculum_pdfs\\AEP Mathematics Level 3 Version A.pdf\n",
      "Downloaded: ./pdfs/aep_curriculum_pdfs\\AEP Nig History and Values Level 1 Version A(1).pdf\n",
      "Downloaded: ./pdfs/aep_curriculum_pdfs\\AEP Nig History and Values Level 2 Version A(1).pdf\n",
      "Downloaded: ./pdfs/aep_curriculum_pdfs\\AEP Nig History and Values Level 3 Version A(1).pdf\n"
     ]
    }
   ],
   "source": [
    "# URL of the NERDC Accelerated Basic Education Curriculum page\n",
    "base_url = 'https://nerdc.gov.ng/content_manager/aep.html'\n",
    "\n",
    "# Send a GET request to fetch the page content\n",
    "response = requests.get(base_url)\n",
    "soup = BeautifulSoup(response.text, 'html.parser')\n",
    "\n",
    "# Find all anchor tags with href attributes\n",
    "links = soup.find_all('a', href=True)\n",
    "\n",
    "# Filter links that end with '.pdf'\n",
    "pdf_links = [urljoin(base_url, link['href']) for link in links if link['href'].lower().endswith('.pdf')]\n",
    "\n",
    "# Making a new dir\n",
    "os.makedirs('./pdfs/aep_curriculum_pdfs')\n",
    "# Download each PDF\n",
    "for pdf_url in pdf_links:\n",
    "    pdf_name = os.path.join('./pdfs/aep_curriculum_pdfs', pdf_url.split('/')[-1])\n",
    "    pdf_response = requests.get(pdf_url)\n",
    "    with open(pdf_name, 'wb') as f:\n",
    "        f.write(pdf_response.content)\n",
    "    print(f'Downloaded: {pdf_name}')"
   ]
  },
  {
   "cell_type": "code",
   "execution_count": null,
   "id": "6ddf66ff",
   "metadata": {},
   "outputs": [],
   "source": []
  }
 ],
 "metadata": {
  "kernelspec": {
   "display_name": "Python 3 (ipykernel)",
   "language": "python",
   "name": "python3"
  },
  "language_info": {
   "codemirror_mode": {
    "name": "ipython",
    "version": 3
   },
   "file_extension": ".py",
   "mimetype": "text/x-python",
   "name": "python",
   "nbconvert_exporter": "python",
   "pygments_lexer": "ipython3",
   "version": "3.8.20"
  }
 },
 "nbformat": 4,
 "nbformat_minor": 5
}
